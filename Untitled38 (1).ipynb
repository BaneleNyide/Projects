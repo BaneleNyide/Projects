{
  "nbformat": 4,
  "nbformat_minor": 0,
  "metadata": {
    "colab": {
      "provenance": []
    },
    "kernelspec": {
      "name": "python3",
      "display_name": "Python 3"
    },
    "language_info": {
      "name": "python"
    }
  },
  "cells": [
    {
      "cell_type": "code",
      "execution_count": 23,
      "metadata": {
        "id": "YeWCDOmMp1Ve"
      },
      "outputs": [],
      "source": [
        "import pandas as pd\n",
        "import numpy as np\n",
        "from sklearn.model_selection import train_test_split\n",
        "from sklearn.preprocessing import StandardScaler\n",
        "from sklearn.ensemble import RandomForestClassifier, VotingClassifier\n",
        "from sklearn.svm import SVC\n",
        "from sklearn.neural_network import MLPClassifier\n",
        "from sklearn.naive_bayes import GaussianNB\n",
        "from sklearn.metrics import accuracy_score, confusion_matrix, classification_report\n",
        "from sklearn.decomposition import PCA\n",
        "from sklearn.cluster import KMeans\n",
        "from sklearn.tree import DecisionTreeClassifier\n",
        "import warnings\n",
        "warnings.filterwarnings('ignore')\n"
      ]
    },
    {
      "cell_type": "code",
      "source": [
        "from sklearn.ensemble import IsolationForest\n",
        "\n",
        "# Load player data with career stats\n",
        "player_reg_season_df = pd.read_csv('player_regular_season.txt')\n",
        "player_career_df = pd.read_csv('player_regular_season_career.txt')\n",
        "\n",
        "# Select player features for performance analysis\n",
        "player_reg_season_df = player_reg_season_df[['ilkid', 'firstname', 'lastname', 'pts', 'reb', 'asts', 'stl', 'blk']]\n",
        "player_career_df = player_career_df[['ilkid', 'pts', 'reb', 'asts', 'stl', 'blk']]\n",
        "player_data = pd.merge(player_reg_season_df, player_career_df, on='ilkid', suffixes=('_season', '_career'))\n",
        "\n",
        "# Relevant performance features for outlier detection\n",
        "player_features = player_data[['pts_season', 'reb_season', 'asts_season', 'stl_season', 'blk_season',\n",
        "                               'pts_career', 'reb_career', 'asts_career', 'stl_career', 'blk_career']]\n",
        "\n",
        "# Handle missing values and standardize features\n",
        "player_features.fillna(0, inplace=True)\n",
        "scaler = StandardScaler()\n",
        "player_features_scaled = scaler.fit_transform(player_features)\n",
        "\n",
        "# Fit Isolation Forest for outlier detection\n",
        "iso_forest = IsolationForest(contamination=0.05, random_state=42)\n",
        "outliers = iso_forest.fit_predict(player_features_scaled)\n",
        "player_data['outstanding'] = outliers\n",
        "\n",
        "# Filter and display outstanding players\n",
        "outstanding_players = player_data[player_data['outstanding'] == -1]\n",
        "print(\"Outstanding Players:\\n\", outstanding_players[['firstname', 'lastname', 'pts_season', 'reb_season', 'asts_season',\n",
        "                                                      'pts_career', 'reb_career', 'asts_career']])\n"
      ],
      "metadata": {
        "colab": {
          "base_uri": "https://localhost:8080/"
        },
        "id": "yBVj4tdw4u7N",
        "outputId": "bc6ab590-b181-4391-9379-51a6a8f585eb"
      },
      "execution_count": 34,
      "outputs": [
        {
          "output_type": "stream",
          "name": "stdout",
          "text": [
            "Outstanding Players:\n",
            "        firstname lastname  pts_season  reb_season  asts_season  pts_career  \\\n",
            "1009       Dolph  Schayes        1121        1080          251       18438   \n",
            "1252       Dolph  Schayes        1262         920          227       18438   \n",
            "1453         Bob   Pettit        1466         994          229       20880   \n",
            "1498         Bob    Cousy        1356         492          642       16960   \n",
            "1548         Bob   Pettit        1849        1164          189       20880   \n",
            "...          ...      ...         ...         ...          ...         ...   \n",
            "20338    Dikembe  Mutombo         322         426           10       11196   \n",
            "20362  Shaquille   O'Neal        1669         760          200       23583   \n",
            "20376       Gary   Payton         873         236          469       20829   \n",
            "20503     Dwyane     Wade        1854         397          520        2845   \n",
            "20509        Ben  Wallace         721         902          123        4029   \n",
            "\n",
            "       reb_career  asts_career  \n",
            "1009        11256         3072  \n",
            "1252        11256         3072  \n",
            "1453        12849         2369  \n",
            "1498         4786         6955  \n",
            "1548        12849         2369  \n",
            "...           ...          ...  \n",
            "20338       11333         1218  \n",
            "20362       10541         2509  \n",
            "20376        4904         8506  \n",
            "20503         644          795  \n",
            "20509        6541          724  \n",
            "\n",
            "[1028 rows x 8 columns]\n"
          ]
        }
      ]
    },
    {
      "cell_type": "code",
      "source": [
        "# Load the team season stats data\n",
        "team_season_df = pd.read_csv('team_season.txt')\n",
        "\n",
        "# Selecting features that might be predictive of game outcomes\n",
        "features = ['o_fgm', 'o_fga', 'o_ftm', 'o_fta', 'o_oreb', 'o_dreb', 'o_reb', 'o_asts',\n",
        "            'o_pf', 'o_stl', 'o_to', 'o_blk', 'o_3pm', 'o_3pa', 'o_pts', 'd_fgm', 'd_fga',\n",
        "            'd_ftm', 'd_fta', 'd_oreb', 'd_dreb', 'd_reb', 'd_asts', 'd_pf', 'd_stl', 'd_to',\n",
        "            'd_blk', 'd_3pm', 'd_3pa', 'd_pts']\n",
        "\n",
        "# Add the outcome label: 1 if the team won more games than lost, 0 otherwise\n",
        "team_season_df['win_loss'] = np.where(team_season_df['won'] > team_season_df['lost'], 1, 0)\n",
        "\n",
        "# Define feature matrix X and target variable y\n",
        "X = team_season_df[features]\n",
        "y = team_season_df['win_loss']\n",
        "\n",
        "# Standardizing features\n",
        "scaler = StandardScaler()\n",
        "X_scaled = scaler.fit_transform(X)\n"
      ],
      "metadata": {
        "id": "6urdZNGGxudh"
      },
      "execution_count": 24,
      "outputs": []
    },
    {
      "cell_type": "code",
      "source": [
        "pca = PCA(n_components=10)\n",
        "X_pca = pca.fit_transform(X_scaled)\n"
      ],
      "metadata": {
        "id": "EstZ_RBxxyAg"
      },
      "execution_count": 25,
      "outputs": []
    },
    {
      "cell_type": "code",
      "source": [
        "# Split data into training and testing sets\n",
        "X_train, X_test, y_train, y_test = train_test_split(X_pca, y, test_size=0.2, random_state=42)\n"
      ],
      "metadata": {
        "id": "sMb4IlEjx1UQ"
      },
      "execution_count": 26,
      "outputs": []
    },
    {
      "cell_type": "code",
      "source": [
        "\n",
        "rf_classifier = RandomForestClassifier(n_estimators=100, random_state=42)\n",
        "rf_classifier.fit(X_train, y_train)\n",
        "y_pred_rf = rf_classifier.predict(X_test)\n",
        "print(\"Random Forest Accuracy:\", accuracy_score(y_test, y_pred_rf))\n",
        "print(\"Random Forest Classification Report:\\n\", classification_report(y_test, y_pred_rf))\n"
      ],
      "metadata": {
        "colab": {
          "base_uri": "https://localhost:8080/"
        },
        "id": "SA7fvMF6x4Eo",
        "outputId": "82299c5f-2019-494b-d186-73a7e23f4e56"
      },
      "execution_count": 27,
      "outputs": [
        {
          "output_type": "stream",
          "name": "stdout",
          "text": [
            "Random Forest Accuracy: 0.7142857142857143\n",
            "Random Forest Classification Report:\n",
            "               precision    recall  f1-score   support\n",
            "\n",
            "           0       0.73      0.69      0.71       120\n",
            "           1       0.70      0.74      0.72       118\n",
            "\n",
            "    accuracy                           0.71       238\n",
            "   macro avg       0.71      0.71      0.71       238\n",
            "weighted avg       0.71      0.71      0.71       238\n",
            "\n"
          ]
        }
      ]
    },
    {
      "cell_type": "code",
      "source": [
        "\n",
        "svm_classifier = SVC(kernel='rbf', random_state=42)\n",
        "svm_classifier.fit(X_train, y_train)\n",
        "y_pred_svm = svm_classifier.predict(X_test)\n",
        "print(\"SVM Accuracy:\", accuracy_score(y_test, y_pred_svm))\n",
        "print(\"SVM Classification Report:\\n\", classification_report(y_test, y_pred_svm))\n"
      ],
      "metadata": {
        "colab": {
          "base_uri": "https://localhost:8080/"
        },
        "id": "lsGyr1PJx9Gp",
        "outputId": "2399fd10-4de0-4096-b2e6-d7905c7a86e6"
      },
      "execution_count": 28,
      "outputs": [
        {
          "output_type": "stream",
          "name": "stdout",
          "text": [
            "SVM Accuracy: 0.6722689075630253\n",
            "SVM Classification Report:\n",
            "               precision    recall  f1-score   support\n",
            "\n",
            "           0       0.68      0.66      0.67       120\n",
            "           1       0.66      0.69      0.68       118\n",
            "\n",
            "    accuracy                           0.67       238\n",
            "   macro avg       0.67      0.67      0.67       238\n",
            "weighted avg       0.67      0.67      0.67       238\n",
            "\n"
          ]
        }
      ]
    },
    {
      "cell_type": "code",
      "source": [
        "nn_classifier = MLPClassifier(hidden_layer_sizes=(50,), max_iter=300, random_state=42)\n",
        "nn_classifier.fit(X_train, y_train)\n",
        "y_pred_nn = nn_classifier.predict(X_test)\n",
        "print(\"Neural Network Accuracy:\", accuracy_score(y_test, y_pred_nn))\n",
        "print(\"Neural Network Classification Report:\\n\", classification_report(y_test, y_pred_nn))\n"
      ],
      "metadata": {
        "colab": {
          "base_uri": "https://localhost:8080/"
        },
        "id": "cU4fkqBayA8w",
        "outputId": "fcc23d8b-b9c3-4026-a3db-8858880ca2d0"
      },
      "execution_count": 29,
      "outputs": [
        {
          "output_type": "stream",
          "name": "stdout",
          "text": [
            "Neural Network Accuracy: 0.7184873949579832\n",
            "Neural Network Classification Report:\n",
            "               precision    recall  f1-score   support\n",
            "\n",
            "           0       0.73      0.70      0.71       120\n",
            "           1       0.71      0.74      0.72       118\n",
            "\n",
            "    accuracy                           0.72       238\n",
            "   macro avg       0.72      0.72      0.72       238\n",
            "weighted avg       0.72      0.72      0.72       238\n",
            "\n"
          ]
        }
      ]
    },
    {
      "cell_type": "code",
      "source": [
        "nb_classifier = GaussianNB()\n",
        "nb_classifier.fit(X_train, y_train)\n",
        "y_pred_nb = nb_classifier.predict(X_test)\n",
        "print(\"Naive Bayes Accuracy:\", accuracy_score(y_test, y_pred_nb))\n",
        "print(\"Naive Bayes Classification Report:\\n\", classification_report(y_test, y_pred_nb))\n"
      ],
      "metadata": {
        "colab": {
          "base_uri": "https://localhost:8080/"
        },
        "id": "Hj4o9IzLyDiu",
        "outputId": "c42de1da-a1dd-42bb-a70d-ba3010851d8a"
      },
      "execution_count": 30,
      "outputs": [
        {
          "output_type": "stream",
          "name": "stdout",
          "text": [
            "Naive Bayes Accuracy: 0.6428571428571429\n",
            "Naive Bayes Classification Report:\n",
            "               precision    recall  f1-score   support\n",
            "\n",
            "           0       0.66      0.60      0.63       120\n",
            "           1       0.63      0.69      0.66       118\n",
            "\n",
            "    accuracy                           0.64       238\n",
            "   macro avg       0.64      0.64      0.64       238\n",
            "weighted avg       0.64      0.64      0.64       238\n",
            "\n"
          ]
        }
      ]
    },
    {
      "cell_type": "code",
      "source": [
        "dt_classifier = DecisionTreeClassifier(random_state=42)\n",
        "dt_classifier.fit(X_train, y_train)\n",
        "y_pred_dt = dt_classifier.predict(X_test)\n",
        "print(\"Decision Tree Accuracy:\", accuracy_score(y_test, y_pred_dt))\n",
        "print(\"Decision Tree Classification Report:\\n\", classification_report(y_test, y_pred_dt))\n"
      ],
      "metadata": {
        "colab": {
          "base_uri": "https://localhost:8080/"
        },
        "id": "zBaJUJEDyGdm",
        "outputId": "a65434b2-2faf-4f13-f27f-72b0424bab4a"
      },
      "execution_count": 31,
      "outputs": [
        {
          "output_type": "stream",
          "name": "stdout",
          "text": [
            "Decision Tree Accuracy: 0.6176470588235294\n",
            "Decision Tree Classification Report:\n",
            "               precision    recall  f1-score   support\n",
            "\n",
            "           0       0.62      0.62      0.62       120\n",
            "           1       0.62      0.61      0.61       118\n",
            "\n",
            "    accuracy                           0.62       238\n",
            "   macro avg       0.62      0.62      0.62       238\n",
            "weighted avg       0.62      0.62      0.62       238\n",
            "\n"
          ]
        }
      ]
    },
    {
      "cell_type": "code",
      "source": [
        "# Voting Classifier (Ensemble of different models)\n",
        "voting_classifier = VotingClassifier(\n",
        "    estimators=[\n",
        "        ('rf', rf_classifier),\n",
        "        ('svm', svm_classifier),\n",
        "        ('nn', nn_classifier),\n",
        "        ('nb', nb_classifier),\n",
        "        ('dt', dt_classifier)\n",
        "    ],\n",
        "    voting='hard'\n",
        ")\n",
        "voting_classifier.fit(X_train, y_train)\n",
        "y_pred_voting = voting_classifier.predict(X_test)\n",
        "print(\"Voting Classifier Accuracy:\", accuracy_score(y_test, y_pred_voting))\n",
        "print(\"Voting Classifier Classification Report:\\n\", classification_report(y_test, y_pred_voting))\n"
      ],
      "metadata": {
        "colab": {
          "base_uri": "https://localhost:8080/"
        },
        "id": "PvfYXhmsyJPd",
        "outputId": "1aec6c7e-9a99-4e2b-b75d-ce1480dd06cf"
      },
      "execution_count": 32,
      "outputs": [
        {
          "output_type": "stream",
          "name": "stdout",
          "text": [
            "Voting Classifier Accuracy: 0.6974789915966386\n",
            "Voting Classifier Classification Report:\n",
            "               precision    recall  f1-score   support\n",
            "\n",
            "           0       0.70      0.69      0.70       120\n",
            "           1       0.69      0.70      0.70       118\n",
            "\n",
            "    accuracy                           0.70       238\n",
            "   macro avg       0.70      0.70      0.70       238\n",
            "weighted avg       0.70      0.70      0.70       238\n",
            "\n"
          ]
        }
      ]
    },
    {
      "cell_type": "code",
      "source": [
        "# Print a summary table of accuracy scores\n",
        "accuracy_scores = {\n",
        "    \"Random Forest\": accuracy_score(y_test, y_pred_rf),\n",
        "    \"SVM\": accuracy_score(y_test, y_pred_svm),\n",
        "    \"Neural Network\": accuracy_score(y_test, y_pred_nn),\n",
        "    \"Naive Bayes\": accuracy_score(y_test, y_pred_nb),\n",
        "    \"Decision Tree\": accuracy_score(y_test, y_pred_dt),\n",
        "    \"Voting Classifier\": accuracy_score(y_test, y_pred_voting),\n",
        "}\n",
        "\n",
        "print(\"\\nModel Comparison:\")\n",
        "for model, accuracy in accuracy_scores.items():\n",
        "    print(f\"{model}: {accuracy:.2f}\")\n"
      ],
      "metadata": {
        "colab": {
          "base_uri": "https://localhost:8080/"
        },
        "id": "SNTvL0P0zPNq",
        "outputId": "3e4b7c08-8143-4a35-c529-966b6c94584f"
      },
      "execution_count": 33,
      "outputs": [
        {
          "output_type": "stream",
          "name": "stdout",
          "text": [
            "\n",
            "Model Comparison:\n",
            "Random Forest: 0.71\n",
            "SVM: 0.67\n",
            "Neural Network: 0.72\n",
            "Naive Bayes: 0.64\n",
            "Decision Tree: 0.62\n",
            "Voting Classifier: 0.70\n"
          ]
        }
      ]
    }
  ]
}